{
 "cells": [
  {
   "cell_type": "markdown",
   "metadata": {},
   "source": [
    "# <center>Исследование данных</center>"
   ]
  },
  {
   "cell_type": "markdown",
   "metadata": {},
   "source": [
    "\n",
    "\n",
    "\n",
    "## <center>Подсчёт количество NaN в разных столбцах таблицы</center>\n",
    "\n",
    "\n",
    "**Ниже будет представлен код для подсчёта количества NaN в столбцах начальной таблицы, первая версия в процентах, вторая показывает количество.**\n",
    "\n",
    "Гипотезы на основе полученных результатов:\n",
    "\n",
    "\n",
    "1. Город магазина или магазин заказа часто отсутствует, так как предположительно люди предпочитают курьерскую доставку, в таком случае, эти данные не указываются. Возможно, компании стоит сфокусироваться на этом направлении.\n",
    "\n",
    "\n",
    "2. Большое отсутствие причин отмены, может быть, обусловлено тем, что люди не желают сообщать истинную причину, возможно, некогда, или неудобно говорить правду. Возможно, неудобно устроен канал обратной связи.\n",
    "\n",
    "\n",
    "3. Маржа предположительно отсутствует из-за некорректных данных и возвратов (в таком случае ничего не пишется). Аналогично с ценой закупки.\n",
    "\n",
    "\n",
    "4. Группа товара может быть не указана, потому что в отдельных строках записана \"доставка\", в таких случаях не пишется эта информация.\n",
    "\n",
    "\n",
    "5. Где-то не указана почта, возможно, это ошибка в данных.\n",
    "\n",
    "\n",
    "6. Часто не указан телефон клиента, что является проблемой, так как с ним потом сложно связаться. Причины могут быть разными для скрытия телефона, например, как фрод, так и беспокойство о персональной информации. Можно в качестве обязательного условия для заказа товара установить указание телефона, чтобы не терять часть клиентов, с которыми потом сложно связаться."
   ]
  },
  {
   "cell_type": "code",
   "execution_count": 89,
   "metadata": {},
   "outputs": [],
   "source": [
    "import pandas as pd\n",
    "pd.options.mode.chained_assignment = None  # default='warn'\n",
    "\n",
    "data = pd.read_csv('data/all_data_sas.csv', sep=\";\", encoding='cp1251') # open raw data file"
   ]
  },
  {
   "cell_type": "markdown",
   "metadata": {},
   "source": [
    "**Посчитаем количество уникальных заказов**"
   ]
  },
  {
   "cell_type": "code",
   "execution_count": 90,
   "metadata": {},
   "outputs": [
    {
     "data": {
      "text/plain": [
       "4558987_TR       144\n",
       "5028928_TR       138\n",
       "5029815_TR       121\n",
       "4810316_TR       114\n",
       "4951913_TR       113\n",
       "                ... \n",
       "1867002850_TR      1\n",
       "4976367_TR         1\n",
       "4578542_TR         1\n",
       "4612768_TR         1\n",
       "4661455_TR         1\n",
       "Name: НомерЗаказаНаСайте, Length: 173958, dtype: int64"
      ]
     },
     "execution_count": 90,
     "metadata": {},
     "output_type": "execute_result"
    }
   ],
   "source": [
    "data[\"НомерЗаказаНаСайте\"].value_counts()"
   ]
  },
  {
   "cell_type": "code",
   "execution_count": 91,
   "metadata": {},
   "outputs": [],
   "source": [
    "temp = data.isna().sum()\n",
    "temp[\"Телефон_new\"] += (data[\"Телефон_new\"] == '0').astype(int).sum()\n",
    "temp[\"Цена\"] += (data[\"Цена\"] == '0').astype(int).sum()\n",
    "temp[\"СуммаСтроки\"] += (data[\"СуммаСтроки\"] == '0').astype(int).sum()\n",
    "temp[\"Клиент\"] += (data[\"Клиент\"] == '0').astype(int).sum()\n",
    "temp[\"ГородМагазина\"] += (data[\"ГородМагазина\"] == '0').astype(int).sum()\n",
    "\n",
    "temp1 = 100 * temp / len(data)"
   ]
  },
  {
   "cell_type": "markdown",
   "metadata": {},
   "source": [
    "**Выведем информацию по пропущенным значениям в процентном соотношении**"
   ]
  },
  {
   "cell_type": "code",
   "execution_count": 96,
   "metadata": {},
   "outputs": [
    {
     "data": {
      "text/html": [
       "<div>\n",
       "<style scoped>\n",
       "    .dataframe tbody tr th:only-of-type {\n",
       "        vertical-align: middle;\n",
       "    }\n",
       "\n",
       "    .dataframe tbody tr th {\n",
       "        vertical-align: top;\n",
       "    }\n",
       "\n",
       "    .dataframe thead th {\n",
       "        text-align: right;\n",
       "    }\n",
       "</style>\n",
       "<table border=\"1\" class=\"dataframe\">\n",
       "  <thead>\n",
       "    <tr style=\"text-align: right;\">\n",
       "      <th></th>\n",
       "      <th>Категория</th>\n",
       "      <th>%</th>\n",
       "    </tr>\n",
       "  </thead>\n",
       "  <tbody>\n",
       "    <tr>\n",
       "      <th>0</th>\n",
       "      <td>МагазинЗаказа</td>\n",
       "      <td>99.297934</td>\n",
       "    </tr>\n",
       "    <tr>\n",
       "      <th>1</th>\n",
       "      <td>ГородМагазина</td>\n",
       "      <td>99.297934</td>\n",
       "    </tr>\n",
       "    <tr>\n",
       "      <th>2</th>\n",
       "      <td>ПричинаОтмены</td>\n",
       "      <td>90.142193</td>\n",
       "    </tr>\n",
       "    <tr>\n",
       "      <th>3</th>\n",
       "      <td>ПВЗ_код</td>\n",
       "      <td>28.561866</td>\n",
       "    </tr>\n",
       "    <tr>\n",
       "      <th>4</th>\n",
       "      <td>Группа4</td>\n",
       "      <td>17.498405</td>\n",
       "    </tr>\n",
       "    <tr>\n",
       "      <th>5</th>\n",
       "      <td>Маржа</td>\n",
       "      <td>14.033520</td>\n",
       "    </tr>\n",
       "    <tr>\n",
       "      <th>6</th>\n",
       "      <td>ЦенаЗакупки</td>\n",
       "      <td>14.033520</td>\n",
       "    </tr>\n",
       "    <tr>\n",
       "      <th>7</th>\n",
       "      <td>Группа3</td>\n",
       "      <td>13.623011</td>\n",
       "    </tr>\n",
       "    <tr>\n",
       "      <th>8</th>\n",
       "      <td>ТипТовара</td>\n",
       "      <td>13.623011</td>\n",
       "    </tr>\n",
       "    <tr>\n",
       "      <th>9</th>\n",
       "      <td>Группа2</td>\n",
       "      <td>13.623011</td>\n",
       "    </tr>\n",
       "    <tr>\n",
       "      <th>10</th>\n",
       "      <td>СуммаСтроки</td>\n",
       "      <td>2.687535</td>\n",
       "    </tr>\n",
       "    <tr>\n",
       "      <th>11</th>\n",
       "      <td>ЭлектроннаяПочта_new</td>\n",
       "      <td>1.722793</td>\n",
       "    </tr>\n",
       "    <tr>\n",
       "      <th>12</th>\n",
       "      <td>Регион</td>\n",
       "      <td>0.702477</td>\n",
       "    </tr>\n",
       "    <tr>\n",
       "      <th>13</th>\n",
       "      <td>Телефон_new</td>\n",
       "      <td>0.387512</td>\n",
       "    </tr>\n",
       "    <tr>\n",
       "      <th>14</th>\n",
       "      <td>Клиент</td>\n",
       "      <td>0.233383</td>\n",
       "    </tr>\n",
       "    <tr>\n",
       "      <th>15</th>\n",
       "      <td>ДатаДоставки</td>\n",
       "      <td>0.054342</td>\n",
       "    </tr>\n",
       "    <tr>\n",
       "      <th>16</th>\n",
       "      <td>Цена</td>\n",
       "      <td>0.018890</td>\n",
       "    </tr>\n",
       "    <tr>\n",
       "      <th>17</th>\n",
       "      <td>ФормаОплаты</td>\n",
       "      <td>0.000274</td>\n",
       "    </tr>\n",
       "    <tr>\n",
       "      <th>18</th>\n",
       "      <td>МетодДоставки</td>\n",
       "      <td>0.000274</td>\n",
       "    </tr>\n",
       "    <tr>\n",
       "      <th>19</th>\n",
       "      <td>СуммаУслуг</td>\n",
       "      <td>0.000000</td>\n",
       "    </tr>\n",
       "    <tr>\n",
       "      <th>20</th>\n",
       "      <td>НомерЗаказаНаСайте</td>\n",
       "      <td>0.000000</td>\n",
       "    </tr>\n",
       "    <tr>\n",
       "      <th>21</th>\n",
       "      <td>ID_SKU</td>\n",
       "      <td>0.000000</td>\n",
       "    </tr>\n",
       "    <tr>\n",
       "      <th>22</th>\n",
       "      <td>ДатаЗаказаНаСайте</td>\n",
       "      <td>0.000000</td>\n",
       "    </tr>\n",
       "    <tr>\n",
       "      <th>23</th>\n",
       "      <td>КоличествоПроданоКлиенту</td>\n",
       "      <td>0.000000</td>\n",
       "    </tr>\n",
       "    <tr>\n",
       "      <th>24</th>\n",
       "      <td>НомерСтроки</td>\n",
       "      <td>0.000000</td>\n",
       "    </tr>\n",
       "    <tr>\n",
       "      <th>25</th>\n",
       "      <td>СуммаДоставки</td>\n",
       "      <td>0.000000</td>\n",
       "    </tr>\n",
       "    <tr>\n",
       "      <th>26</th>\n",
       "      <td>Статус</td>\n",
       "      <td>0.000000</td>\n",
       "    </tr>\n",
       "    <tr>\n",
       "      <th>27</th>\n",
       "      <td>НовыйСтатус</td>\n",
       "      <td>0.000000</td>\n",
       "    </tr>\n",
       "    <tr>\n",
       "      <th>28</th>\n",
       "      <td>Гео</td>\n",
       "      <td>0.000000</td>\n",
       "    </tr>\n",
       "    <tr>\n",
       "      <th>29</th>\n",
       "      <td>Тип</td>\n",
       "      <td>0.000000</td>\n",
       "    </tr>\n",
       "    <tr>\n",
       "      <th>30</th>\n",
       "      <td>СуммаЗаказаНаСайте</td>\n",
       "      <td>0.000000</td>\n",
       "    </tr>\n",
       "    <tr>\n",
       "      <th>31</th>\n",
       "      <td>ГодДатыЗаказа</td>\n",
       "      <td>0.000000</td>\n",
       "    </tr>\n",
       "    <tr>\n",
       "      <th>32</th>\n",
       "      <td>МесяцДатыЗаказа</td>\n",
       "      <td>0.000000</td>\n",
       "    </tr>\n",
       "    <tr>\n",
       "      <th>33</th>\n",
       "      <td>СуммаДокумента</td>\n",
       "      <td>0.000000</td>\n",
       "    </tr>\n",
       "    <tr>\n",
       "      <th>34</th>\n",
       "      <td>Количество</td>\n",
       "      <td>0.000000</td>\n",
       "    </tr>\n",
       "    <tr>\n",
       "      <th>35</th>\n",
       "      <td>Отменено</td>\n",
       "      <td>0.000000</td>\n",
       "    </tr>\n",
       "    <tr>\n",
       "      <th>36</th>\n",
       "      <td>Номенклатура</td>\n",
       "      <td>0.000000</td>\n",
       "    </tr>\n",
       "    <tr>\n",
       "      <th>37</th>\n",
       "      <td>Дата</td>\n",
       "      <td>0.000000</td>\n",
       "    </tr>\n",
       "  </tbody>\n",
       "</table>\n",
       "</div>"
      ],
      "text/plain": [
       "                   Категория          %\n",
       "0              МагазинЗаказа  99.297934\n",
       "1              ГородМагазина  99.297934\n",
       "2              ПричинаОтмены  90.142193\n",
       "3                    ПВЗ_код  28.561866\n",
       "4                    Группа4  17.498405\n",
       "5                      Маржа  14.033520\n",
       "6                ЦенаЗакупки  14.033520\n",
       "7                    Группа3  13.623011\n",
       "8                  ТипТовара  13.623011\n",
       "9                    Группа2  13.623011\n",
       "10               СуммаСтроки   2.687535\n",
       "11      ЭлектроннаяПочта_new   1.722793\n",
       "12                    Регион   0.702477\n",
       "13               Телефон_new   0.387512\n",
       "14                    Клиент   0.233383\n",
       "15              ДатаДоставки   0.054342\n",
       "16                      Цена   0.018890\n",
       "17               ФормаОплаты   0.000274\n",
       "18             МетодДоставки   0.000274\n",
       "19                СуммаУслуг   0.000000\n",
       "20        НомерЗаказаНаСайте   0.000000\n",
       "21                    ID_SKU   0.000000\n",
       "22         ДатаЗаказаНаСайте   0.000000\n",
       "23  КоличествоПроданоКлиенту   0.000000\n",
       "24               НомерСтроки   0.000000\n",
       "25             СуммаДоставки   0.000000\n",
       "26                    Статус   0.000000\n",
       "27               НовыйСтатус   0.000000\n",
       "28                       Гео   0.000000\n",
       "29                       Тип   0.000000\n",
       "30        СуммаЗаказаНаСайте   0.000000\n",
       "31             ГодДатыЗаказа   0.000000\n",
       "32           МесяцДатыЗаказа   0.000000\n",
       "33            СуммаДокумента   0.000000\n",
       "34                Количество   0.000000\n",
       "35                  Отменено   0.000000\n",
       "36              Номенклатура   0.000000\n",
       "37                      Дата   0.000000"
      ]
     },
     "execution_count": 96,
     "metadata": {},
     "output_type": "execute_result"
    }
   ],
   "source": [
    "df = pd.DataFrame(temp1)\n",
    "\n",
    "df.rename(columns={df.columns[0]: \"%\"}, inplace = True)\n",
    "df = df.sort_values(\"%\", axis=0, ascending=False, inplace=False, na_position='last')\n",
    "df.reset_index(level=0, inplace=True)\n",
    "df.rename(columns={df.columns[0]: \"Категория\", df.columns[1]: \"%\"}, inplace = True)\n",
    "df"
   ]
  },
  {
   "cell_type": "markdown",
   "metadata": {},
   "source": [
    "**Выведем информацию по пропущенным значениям в количестве**"
   ]
  },
  {
   "cell_type": "code",
   "execution_count": 97,
   "metadata": {},
   "outputs": [
    {
     "data": {
      "text/html": [
       "<div>\n",
       "<style scoped>\n",
       "    .dataframe tbody tr th:only-of-type {\n",
       "        vertical-align: middle;\n",
       "    }\n",
       "\n",
       "    .dataframe tbody tr th {\n",
       "        vertical-align: top;\n",
       "    }\n",
       "\n",
       "    .dataframe thead th {\n",
       "        text-align: right;\n",
       "    }\n",
       "</style>\n",
       "<table border=\"1\" class=\"dataframe\">\n",
       "  <thead>\n",
       "    <tr style=\"text-align: right;\">\n",
       "      <th></th>\n",
       "      <th>Категория</th>\n",
       "      <th>Количество</th>\n",
       "    </tr>\n",
       "  </thead>\n",
       "  <tbody>\n",
       "    <tr>\n",
       "      <th>0</th>\n",
       "      <td>МагазинЗаказа</td>\n",
       "      <td>725429</td>\n",
       "    </tr>\n",
       "    <tr>\n",
       "      <th>1</th>\n",
       "      <td>ГородМагазина</td>\n",
       "      <td>725429</td>\n",
       "    </tr>\n",
       "    <tr>\n",
       "      <th>2</th>\n",
       "      <td>ПричинаОтмены</td>\n",
       "      <td>658541</td>\n",
       "    </tr>\n",
       "    <tr>\n",
       "      <th>3</th>\n",
       "      <td>ПВЗ_код</td>\n",
       "      <td>208661</td>\n",
       "    </tr>\n",
       "    <tr>\n",
       "      <th>4</th>\n",
       "      <td>Группа4</td>\n",
       "      <td>127836</td>\n",
       "    </tr>\n",
       "    <tr>\n",
       "      <th>5</th>\n",
       "      <td>Маржа</td>\n",
       "      <td>102523</td>\n",
       "    </tr>\n",
       "    <tr>\n",
       "      <th>6</th>\n",
       "      <td>ЦенаЗакупки</td>\n",
       "      <td>102523</td>\n",
       "    </tr>\n",
       "    <tr>\n",
       "      <th>7</th>\n",
       "      <td>Группа3</td>\n",
       "      <td>99524</td>\n",
       "    </tr>\n",
       "    <tr>\n",
       "      <th>8</th>\n",
       "      <td>ТипТовара</td>\n",
       "      <td>99524</td>\n",
       "    </tr>\n",
       "    <tr>\n",
       "      <th>9</th>\n",
       "      <td>Группа2</td>\n",
       "      <td>99524</td>\n",
       "    </tr>\n",
       "    <tr>\n",
       "      <th>10</th>\n",
       "      <td>СуммаСтроки</td>\n",
       "      <td>19634</td>\n",
       "    </tr>\n",
       "    <tr>\n",
       "      <th>11</th>\n",
       "      <td>ЭлектроннаяПочта_new</td>\n",
       "      <td>12586</td>\n",
       "    </tr>\n",
       "    <tr>\n",
       "      <th>12</th>\n",
       "      <td>Регион</td>\n",
       "      <td>5132</td>\n",
       "    </tr>\n",
       "    <tr>\n",
       "      <th>13</th>\n",
       "      <td>Телефон_new</td>\n",
       "      <td>2831</td>\n",
       "    </tr>\n",
       "    <tr>\n",
       "      <th>14</th>\n",
       "      <td>Клиент</td>\n",
       "      <td>1705</td>\n",
       "    </tr>\n",
       "    <tr>\n",
       "      <th>15</th>\n",
       "      <td>ДатаДоставки</td>\n",
       "      <td>397</td>\n",
       "    </tr>\n",
       "    <tr>\n",
       "      <th>16</th>\n",
       "      <td>Цена</td>\n",
       "      <td>138</td>\n",
       "    </tr>\n",
       "    <tr>\n",
       "      <th>17</th>\n",
       "      <td>ФормаОплаты</td>\n",
       "      <td>2</td>\n",
       "    </tr>\n",
       "    <tr>\n",
       "      <th>18</th>\n",
       "      <td>МетодДоставки</td>\n",
       "      <td>2</td>\n",
       "    </tr>\n",
       "    <tr>\n",
       "      <th>19</th>\n",
       "      <td>СуммаУслуг</td>\n",
       "      <td>0</td>\n",
       "    </tr>\n",
       "    <tr>\n",
       "      <th>20</th>\n",
       "      <td>НомерЗаказаНаСайте</td>\n",
       "      <td>0</td>\n",
       "    </tr>\n",
       "    <tr>\n",
       "      <th>21</th>\n",
       "      <td>ID_SKU</td>\n",
       "      <td>0</td>\n",
       "    </tr>\n",
       "    <tr>\n",
       "      <th>22</th>\n",
       "      <td>ДатаЗаказаНаСайте</td>\n",
       "      <td>0</td>\n",
       "    </tr>\n",
       "    <tr>\n",
       "      <th>23</th>\n",
       "      <td>КоличествоПроданоКлиенту</td>\n",
       "      <td>0</td>\n",
       "    </tr>\n",
       "    <tr>\n",
       "      <th>24</th>\n",
       "      <td>НомерСтроки</td>\n",
       "      <td>0</td>\n",
       "    </tr>\n",
       "    <tr>\n",
       "      <th>25</th>\n",
       "      <td>СуммаДоставки</td>\n",
       "      <td>0</td>\n",
       "    </tr>\n",
       "    <tr>\n",
       "      <th>26</th>\n",
       "      <td>Статус</td>\n",
       "      <td>0</td>\n",
       "    </tr>\n",
       "    <tr>\n",
       "      <th>27</th>\n",
       "      <td>НовыйСтатус</td>\n",
       "      <td>0</td>\n",
       "    </tr>\n",
       "    <tr>\n",
       "      <th>28</th>\n",
       "      <td>Гео</td>\n",
       "      <td>0</td>\n",
       "    </tr>\n",
       "    <tr>\n",
       "      <th>29</th>\n",
       "      <td>Тип</td>\n",
       "      <td>0</td>\n",
       "    </tr>\n",
       "    <tr>\n",
       "      <th>30</th>\n",
       "      <td>СуммаЗаказаНаСайте</td>\n",
       "      <td>0</td>\n",
       "    </tr>\n",
       "    <tr>\n",
       "      <th>31</th>\n",
       "      <td>ГодДатыЗаказа</td>\n",
       "      <td>0</td>\n",
       "    </tr>\n",
       "    <tr>\n",
       "      <th>32</th>\n",
       "      <td>МесяцДатыЗаказа</td>\n",
       "      <td>0</td>\n",
       "    </tr>\n",
       "    <tr>\n",
       "      <th>33</th>\n",
       "      <td>СуммаДокумента</td>\n",
       "      <td>0</td>\n",
       "    </tr>\n",
       "    <tr>\n",
       "      <th>34</th>\n",
       "      <td>Количество</td>\n",
       "      <td>0</td>\n",
       "    </tr>\n",
       "    <tr>\n",
       "      <th>35</th>\n",
       "      <td>Отменено</td>\n",
       "      <td>0</td>\n",
       "    </tr>\n",
       "    <tr>\n",
       "      <th>36</th>\n",
       "      <td>Номенклатура</td>\n",
       "      <td>0</td>\n",
       "    </tr>\n",
       "    <tr>\n",
       "      <th>37</th>\n",
       "      <td>Дата</td>\n",
       "      <td>0</td>\n",
       "    </tr>\n",
       "  </tbody>\n",
       "</table>\n",
       "</div>"
      ],
      "text/plain": [
       "                   Категория  Количество\n",
       "0              МагазинЗаказа      725429\n",
       "1              ГородМагазина      725429\n",
       "2              ПричинаОтмены      658541\n",
       "3                    ПВЗ_код      208661\n",
       "4                    Группа4      127836\n",
       "5                      Маржа      102523\n",
       "6                ЦенаЗакупки      102523\n",
       "7                    Группа3       99524\n",
       "8                  ТипТовара       99524\n",
       "9                    Группа2       99524\n",
       "10               СуммаСтроки       19634\n",
       "11      ЭлектроннаяПочта_new       12586\n",
       "12                    Регион        5132\n",
       "13               Телефон_new        2831\n",
       "14                    Клиент        1705\n",
       "15              ДатаДоставки         397\n",
       "16                      Цена         138\n",
       "17               ФормаОплаты           2\n",
       "18             МетодДоставки           2\n",
       "19                СуммаУслуг           0\n",
       "20        НомерЗаказаНаСайте           0\n",
       "21                    ID_SKU           0\n",
       "22         ДатаЗаказаНаСайте           0\n",
       "23  КоличествоПроданоКлиенту           0\n",
       "24               НомерСтроки           0\n",
       "25             СуммаДоставки           0\n",
       "26                    Статус           0\n",
       "27               НовыйСтатус           0\n",
       "28                       Гео           0\n",
       "29                       Тип           0\n",
       "30        СуммаЗаказаНаСайте           0\n",
       "31             ГодДатыЗаказа           0\n",
       "32           МесяцДатыЗаказа           0\n",
       "33            СуммаДокумента           0\n",
       "34                Количество           0\n",
       "35                  Отменено           0\n",
       "36              Номенклатура           0\n",
       "37                      Дата           0"
      ]
     },
     "execution_count": 97,
     "metadata": {},
     "output_type": "execute_result"
    }
   ],
   "source": [
    "df1 = pd.DataFrame(temp)\n",
    "df1.rename(columns={df1.columns[0]: \"Количество\"}, inplace = True)\n",
    "df1 = df1.sort_values(\"Количество\", axis=0, ascending=False, inplace=False, na_position='last')\n",
    "df1.reset_index(level=0, inplace=True)\n",
    "df1.rename(columns={df1.columns[0]: \"Категория\", df.columns[1]: \"Количество\"}, inplace = True)\n",
    "df1"
   ]
  },
  {
   "cell_type": "markdown",
   "metadata": {},
   "source": [
    "**Запустить следующие части, если требуется сохранить таблицы**"
   ]
  },
  {
   "cell_type": "code",
   "execution_count": 10,
   "metadata": {},
   "outputs": [],
   "source": [
    "df.to_csv('missings_percents.csv') #Cохранить таблицу с процентами"
   ]
  },
  {
   "cell_type": "code",
   "execution_count": null,
   "metadata": {},
   "outputs": [],
   "source": [
    "df1.to_csv('missings_numbers.csv') #Сохранить таблицу с количеством"
   ]
  },
  {
   "cell_type": "markdown",
   "metadata": {},
   "source": [
    "## <center>Определение доли пола</center>\n",
    " \n",
    "**Воспользуемся библиотекой pymorphy2 для определения пола человека по его имени.**\n",
    "\n",
    "Видим, что около 33% заказов совершили женщины, примерно 20% составили заказы, сделанные мужчинами. Около 50% пользователей не назвали своё имя. \n",
    "Предположительно (потому что неизвестно распределение долей в тех 50%), товары у данного продавца больше пользуются спросом у женщин. Эти данные можно, например, использовать для таргетированный рекламы."
   ]
  },
  {
   "cell_type": "code",
   "execution_count": 2,
   "metadata": {},
   "outputs": [
    {
     "name": "stderr",
     "output_type": "stream",
     "text": [
      "C:\\Users\\Alexander\\Anaconda3\\lib\\site-packages\\IPython\\core\\interactiveshell.py:3058: DtypeWarning: Columns (17) have mixed types. Specify dtype option on import or set low_memory=False.\n",
      "  interactivity=interactivity, compiler=compiler, result=result)\n"
     ]
    }
   ],
   "source": [
    "import pandas as pd \n",
    "import pymorphy2\n",
    "morph = pymorphy2.MorphAnalyzer()\n",
    "pd.options.mode.chained_assignment = None  # default='warn'\n",
    "\n",
    "data_unique = pd.read_csv('SAS_data_clean11.csv', sep=\";\", encoding='cp1251')"
   ]
  },
  {
   "cell_type": "code",
   "execution_count": 3,
   "metadata": {},
   "outputs": [],
   "source": [
    "data_unique = data_unique.drop_duplicates(subset=[\"НомерЗаказаНаСайте\"], keep='first') #оставили только уникальные заказы"
   ]
  },
  {
   "cell_type": "code",
   "execution_count": 4,
   "metadata": {},
   "outputs": [
    {
     "name": "stdout",
     "output_type": "stream",
     "text": [
      "Men ordered - 15209 times\n",
      "Women ordered - 25845 times\n",
      "There are unknown 36654 orders\n"
     ]
    }
   ],
   "source": [
    "male, female, guest = 0, 0, 0\n",
    "for name in data_unique[\"Клиент\"]:\n",
    "    name = str(name)\n",
    "    if name != \"Гость\" and name.isalpha():\n",
    "        parsed_word = morph.parse(name)[0]\n",
    "        if \"masc\" == parsed_word.tag.gender:\n",
    "            male += 1\n",
    "        else: \n",
    "            female += 1\n",
    "    else: \n",
    "        guest += 1\n",
    "print(f\"Men ordered - {male} times\")\n",
    "print(f\"Women ordered - {female} times\")\n",
    "print(f\"There are unknown {guest} orders\")"
   ]
  },
  {
   "cell_type": "code",
   "execution_count": 204,
   "metadata": {},
   "outputs": [],
   "source": [
    "#Функиця для показа количества и процента на pie-plot\n",
    "\n",
    "def make_autopct(values):\n",
    "    def my_autopct(pct):\n",
    "        total = sum(values)\n",
    "        val = int(round(pct*total/100.0))\n",
    "        return '{p:.2f}%  ({v:d})'.format(p=pct,v=val)\n",
    "    return my_autopct"
   ]
  },
  {
   "cell_type": "code",
   "execution_count": 205,
   "metadata": {},
   "outputs": [
    {
     "data": {
      "image/png": "[encoded data removed]",
      "text/plain": [
       "<Figure size 432x288 with 1 Axes>"
      ]
     },
     "metadata": {},
     "output_type": "display_data"
    }
   ],
   "source": [
    "import matplotlib.pyplot as plt\n",
    "labels = ['Men', 'Female', 'Not defined']\n",
    "sizes = [male, female, guest]\n",
    "colors = ['#C3C9E9', 'lightblue', '#AAABBC']\n",
    "fig = plt.pie(sizes, labels=labels, colors=colors, autopct=make_autopct(sizes), radius=2)\n",
    "plt.show()"
   ]
  },
  {
   "cell_type": "markdown",
   "metadata": {},
   "source": [
    "## <center>Определение доли безналичной оплаты</center>\n",
    "\n",
    "Доля безналичной составила 100% для выкупленных заказов. Была проведена отдельная проверка для изначальных данных, не было ни одного чека со статусом \"доставлено\" и наличной оплаты."
   ]
  },
  {
   "cell_type": "code",
   "execution_count": 184,
   "metadata": {},
   "outputs": [
    {
     "name": "stdout",
     "output_type": "stream",
     "text": [
      "Paid using cash - 0 times\n",
      "Paid cashless payment method - 77708 times\n"
     ]
    }
   ],
   "source": [
    "cash, nocash = 0, 0\n",
    "for money in data_unique[\"ФормаОплаты\"]:\n",
    "    money = str(money)\n",
    "    if money == \"Безналичная\":\n",
    "        nocash += 1\n",
    "    else: \n",
    "        cash += 1\n",
    "print(f\"Paid using cash - {cash} times\")\n",
    "print(f\"Paid cashless payment method - {nocash} times\")"
   ]
  },
  {
   "cell_type": "markdown",
   "metadata": {},
   "source": [
    "## <center>Причины отмены заказов</center>\n",
    "\n",
    "В данном разделе рассмотрим возможные причины отмены заказов и их количество."
   ]
  },
  {
   "cell_type": "code",
   "execution_count": 278,
   "metadata": {},
   "outputs": [
    {
     "name": "stdout",
     "output_type": "stream",
     "text": [
      "Причины отмены заказов:\n",
      "1. Авто корректировка склада\n",
      "2. Не пришел товар от поставщика\n",
      "3. Нет на остатках или нет в обработке ЗПЗ\n",
      "4. Не устроила дата доставки\n",
      "5. Ошибка выбора, будет новый заказ\n",
      "6. Другое\n",
      "7. Авто корректировка ЗПЗ\n",
      "8. Уже купил товар в другом месте\n",
      "9. Несоотв стоимости товара или цена не устроила\n",
      "10. Несоотв характеристик товара (свойства, картинка, цвет)\n",
      "11. Нет нужной ассортиментной позиции (цвет, размер, тип)\n",
      "12. Пересорт\n",
      "13. Отказ из за переноса даты доставки\n",
      "14. Форсмажор\n",
      "15. Письмо об отмене\n",
      "16. Тест, контрольная закупка\n"
     ]
    }
   ],
   "source": [
    "x = data_unique[\"ПричинаОтмены\"].value_counts().keys().tolist()\n",
    "counts = data_unique[\"ПричинаОтмены\"].value_counts().tolist()\n",
    "for j in range(0, len(x)):\n",
    "    x[j] = x[j].replace('.','')\n",
    "    for i in range(10):\n",
    "        x[j] = x[j].replace(str(i),'')\n",
    "    x[j] = x[j].lstrip()\n",
    "\n",
    "print(\"Причины отмены заказов:\")\n",
    "for i in range(0, len(x)):\n",
    "    print(str(i + 1) + \". \" + x[i])"
   ]
  },
  {
   "cell_type": "code",
   "execution_count": 281,
   "metadata": {},
   "outputs": [
    {
     "data": {
      "image/png": "[encoded data removed]",
      "text/plain": [
       "<Figure size 1296x576 with 1 Axes>"
      ]
     },
     "metadata": {
      "needs_background": "light"
     },
     "output_type": "display_data"
    }
   ],
   "source": [
    "x_pos = [i for i, _ in enumerate(x)]\n",
    "f, ax = plt.subplots(figsize=(18,8))\n",
    "plt.bar(x_pos, height=counts, color=\"#27647C\")\n",
    "plt.ylabel(\"Количество отмен\")\n",
    "plt.title(\"Причины отмены заказов\")\n",
    "plt.xticks(x_pos, x)\n",
    "plt.setp(plt.gca().get_xticklabels(), rotation=45, horizontalalignment='right')\n",
    "plt.show()"
   ]
  },
  {
   "cell_type": "markdown",
   "metadata": {},
   "source": [
    "## <center>Количество отмен выкупленных заказов</center>"
   ]
  },
  {
   "cell_type": "code",
   "execution_count": 206,
   "metadata": {},
   "outputs": [
    {
     "data": {
      "image/png": "[encoded data removed]",
      "text/plain": [
       "<Figure size 432x288 with 1 Axes>"
      ]
     },
     "metadata": {},
     "output_type": "display_data"
    }
   ],
   "source": [
    "data_unique[\"Отменено\"].value_counts()\n",
    "x = data_unique[\"Отменено\"].value_counts().keys().tolist()\n",
    "sizes = data_unique[\"Отменено\"].value_counts().tolist()\n",
    "labels = ['Выкупили', 'Возврат']\n",
    "colors = ['#93B7BE', '#A799B7']\n",
    "\n",
    "plt.pie(sizes, labels=labels, colors=colors, autopct=make_autopct(sizes), radius=2)\n",
    "plt.show()"
   ]
  },
  {
   "cell_type": "markdown",
   "metadata": {},
   "source": [
    "## <center>Количество заказов по регионам</center>\n",
    "\n",
    "Видим на графике, что больше всего заказов в Москве: около 25000, существенную долю составляет Санкт-Петербург: около 5000 заказов. В Нижнем Новгороде около 4000 заказов, а в Самаре и Екатеринбурге около 2000 заказов, в остальных регионах около 1000 заказов. Регионы, в которых меньше 500 заказов на графике не указаны."
   ]
  },
  {
   "cell_type": "code",
   "execution_count": 226,
   "metadata": {},
   "outputs": [],
   "source": [
    "import numpy as np\n",
    "data_unique = pd.read_csv('SAS_data_clean11.csv', sep=\";\", encoding='cp1251')\n",
    "data_unique = data_unique.drop_duplicates(subset=[\"НомерЗаказаНаСайте\"], keep='first') #оставили только уникальные заказы"
   ]
  },
  {
   "cell_type": "code",
   "execution_count": 294,
   "metadata": {},
   "outputs": [
    {
     "data": {
      "image/png": "[encoded data removed]",
      "text/plain": [
       "<Figure size 1296x720 with 1 Axes>"
      ]
     },
     "metadata": {
      "needs_background": "light"
     },
     "output_type": "display_data"
    }
   ],
   "source": [
    "new_x, names = [], []\n",
    "x = data_unique[\"Регион\"].value_counts().keys().tolist()\n",
    "sizes = data_unique[\"Регион\"].value_counts().tolist()\n",
    "for i in range(0, len(x)):\n",
    "    if sizes[i] > 500:\n",
    "        new_x.append(sizes[i])\n",
    "        names.append(x[i])\n",
    "x = new_x\n",
    "labels = names\n",
    "\n",
    "x_pos = [i for i, _ in enumerate(x)]\n",
    "f, ax = plt.subplots(figsize=(18,10))\n",
    "plt.bar(x_pos, height=x, color=\"#2688A7\")\n",
    "plt.ylabel(\"Количество заказов\")\n",
    "plt.title(\"Регионы\")\n",
    "plt.xticks(x_pos, labels)\n",
    "plt.yticks(np.arange(1000, 23000, 3000))\n",
    "plt.grid(axis='y', linestyle='-', color = \"#D8DBE2\")\n",
    "plt.setp(plt.gca().get_xticklabels(), rotation=45, horizontalalignment='right')\n",
    "plt.show()"
   ]
  },
  {
   "cell_type": "markdown",
   "metadata": {},
   "source": [
    "## <center>Доля курьерской доставки</center>"
   ]
  },
  {
   "cell_type": "code",
   "execution_count": 5,
   "metadata": {},
   "outputs": [
    {
     "data": {
      "text/plain": [
       "Index(['Unnamed: 0', 'Дата', 'ДатаДоставки', 'НомерЗаказаНаСайте',\n",
       "       'НовыйСтатус', 'СуммаЗаказаНаСайте', 'СуммаДокумента', 'МетодДоставки',\n",
       "       'ФормаОплаты', 'Регион', 'Группа2', 'Группа3', 'Группа4', 'Тип',\n",
       "       'Номенклатура', 'ТипТовара', 'Отменено', 'ПричинаОтмены', 'Количество',\n",
       "       'Цена', 'СуммаСтроки', 'ЦенаЗакупки', 'МесяцДатыЗаказа',\n",
       "       'ГодДатыЗаказа', 'ПВЗ_код', 'Статус', 'Гео', 'Маржа', 'СуммаУслуг',\n",
       "       'СуммаДоставки', 'НомерСтроки', 'КоличествоПроданоКлиенту',\n",
       "       'ДатаЗаказаНаСайте', 'Телефон_new', 'ЭлектроннаяПочта_new', 'Клиент',\n",
       "       'ID_SKU', 'ГородМагазина', 'МагазинЗаказа'],\n",
       "      dtype='object')"
      ]
     },
     "execution_count": 5,
     "metadata": {},
     "output_type": "execute_result"
    }
   ],
   "source": [
    "data_unique.columns"
   ]
  },
  {
   "cell_type": "code",
   "execution_count": 6,
   "metadata": {},
   "outputs": [
    {
     "data": {
      "text/plain": [
       "Магазины    77708\n",
       "Name: МетодДоставки, dtype: int64"
      ]
     },
     "execution_count": 6,
     "metadata": {},
     "output_type": "execute_result"
    }
   ],
   "source": [
    "data_unique[\"\"].value_counts()"
   ]
  },
  {
   "cell_type": "code",
   "execution_count": 7,
   "metadata": {},
   "outputs": [],
   "source": [
    "data_saved = pd.read_csv('data/all_data_sas.csv', sep=\";\", encoding='cp1251') # open raw data file"
   ]
  },
  {
   "cell_type": "code",
   "execution_count": 8,
   "metadata": {},
   "outputs": [
    {
     "data": {
      "text/plain": [
       "Магазины                 473994\n",
       "Курьерская               176851\n",
       "Самовывоз                 45808\n",
       "Pick point                17382\n",
       "DPD                       10236\n",
       "Транспортная компания      6285\n",
       "Name: МетодДоставки, dtype: int64"
      ]
     },
     "execution_count": 8,
     "metadata": {},
     "output_type": "execute_result"
    }
   ],
   "source": [
    "data_saved[\"МетодДоставки\"].value_counts()"
   ]
  },
  {
   "cell_type": "code",
   "execution_count": null,
   "metadata": {},
   "outputs": [],
   "source": []
  }
 ],
 "metadata": {
  "kernelspec": {
   "display_name": "Python 3",
   "language": "python",
   "name": "python3"
  },
  "language_info": {
   "codemirror_mode": {
    "name": "ipython",
    "version": 3
   },
   "file_extension": ".py",
   "mimetype": "text/x-python",
   "name": "python",
   "nbconvert_exporter": "python",
   "pygments_lexer": "ipython3",
   "version": "3.7.3"
  }
 },
 "nbformat": 4,
 "nbformat_minor": 2
}
